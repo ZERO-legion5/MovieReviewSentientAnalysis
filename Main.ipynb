{
  "cells": [
    {
      "cell_type": "code",
      "execution_count": 45,
      "metadata": {
        "_cell_guid": "b1076dfc-b9ad-4769-8c92-a6c4dae69d19",
        "_uuid": "8f2839f25d086af736a60e9eeb907d3b93b6e0e5",
        "id": "UYrW6a3wCbXK",
        "trusted": true
      },
      "outputs": [],
      "source": [
        "from numpy.random import seed\n",
        "import numpy as np\n",
        "import pandas as pd\n",
        "import re\n",
        "from nltk.corpus import stopwords\n",
        "from nltk.stem.porter import PorterStemmer\n",
        "from sklearn import preprocessing\n",
        "from sklearn.feature_extraction.text import CountVectorizer\n",
        "from sklearn.metrics import confusion_matrix,classification_report\n",
        "from sklearn.metrics import roc_curve,auc,accuracy_score\n",
        "from keras import Sequential\n",
        "from keras.layers import Embedding,LSTM,Dense\n",
        "from keras.preprocessing.text import Tokenizer\n",
        "from keras.preprocessing.sequence import pad_sequences\n",
        "import warnings\n",
        "warnings.filterwarnings('ignore')"
      ]
    },
    {
      "cell_type": "markdown",
      "metadata": {
        "id": "j_VafE4UCbXL"
      },
      "source": [
        "> Load the data"
      ]
    },
    {
      "cell_type": "code",
      "execution_count": 49,
      "metadata": {
        "colab": {
          "base_uri": "https://localhost:8080/",
          "height": 381
        },
        "id": "o5ysXoqHCbXL",
        "outputId": "b3b3a041-6614-479f-f5a7-39514b8d7798",
        "trusted": true
      },
      "outputs": [
        {
          "name": "stdout",
          "output_type": "stream",
          "text": [
            "Shape of dataset:: (50000, 2)\n"
          ]
        },
        {
          "data": {
            "text/html": [
              "<div>\n",
              "<style scoped>\n",
              "    .dataframe tbody tr th:only-of-type {\n",
              "        vertical-align: middle;\n",
              "    }\n",
              "\n",
              "    .dataframe tbody tr th {\n",
              "        vertical-align: top;\n",
              "    }\n",
              "\n",
              "    .dataframe thead th {\n",
              "        text-align: right;\n",
              "    }\n",
              "</style>\n",
              "<table border=\"1\" class=\"dataframe\">\n",
              "  <thead>\n",
              "    <tr style=\"text-align: right;\">\n",
              "      <th></th>\n",
              "      <th>review</th>\n",
              "      <th>sentiment</th>\n",
              "    </tr>\n",
              "  </thead>\n",
              "  <tbody>\n",
              "    <tr>\n",
              "      <th>0</th>\n",
              "      <td>One of the other reviewers has mentioned that ...</td>\n",
              "      <td>positive</td>\n",
              "    </tr>\n",
              "    <tr>\n",
              "      <th>1</th>\n",
              "      <td>A wonderful little production. &lt;br /&gt;&lt;br /&gt;The...</td>\n",
              "      <td>positive</td>\n",
              "    </tr>\n",
              "    <tr>\n",
              "      <th>2</th>\n",
              "      <td>I thought this was a wonderful way to spend ti...</td>\n",
              "      <td>positive</td>\n",
              "    </tr>\n",
              "    <tr>\n",
              "      <th>3</th>\n",
              "      <td>Basically there's a family where a little boy ...</td>\n",
              "      <td>negative</td>\n",
              "    </tr>\n",
              "    <tr>\n",
              "      <th>4</th>\n",
              "      <td>Petter Mattei's \"Love in the Time of Money\" is...</td>\n",
              "      <td>positive</td>\n",
              "    </tr>\n",
              "    <tr>\n",
              "      <th>5</th>\n",
              "      <td>Probably my all-time favorite movie, a story o...</td>\n",
              "      <td>positive</td>\n",
              "    </tr>\n",
              "    <tr>\n",
              "      <th>6</th>\n",
              "      <td>I sure would like to see a resurrection of a u...</td>\n",
              "      <td>positive</td>\n",
              "    </tr>\n",
              "    <tr>\n",
              "      <th>7</th>\n",
              "      <td>This show was an amazing, fresh &amp; innovative i...</td>\n",
              "      <td>negative</td>\n",
              "    </tr>\n",
              "    <tr>\n",
              "      <th>8</th>\n",
              "      <td>Encouraged by the positive comments about this...</td>\n",
              "      <td>negative</td>\n",
              "    </tr>\n",
              "    <tr>\n",
              "      <th>9</th>\n",
              "      <td>If you like original gut wrenching laughter yo...</td>\n",
              "      <td>positive</td>\n",
              "    </tr>\n",
              "  </tbody>\n",
              "</table>\n",
              "</div>"
            ],
            "text/plain": [
              "                                              review sentiment\n",
              "0  One of the other reviewers has mentioned that ...  positive\n",
              "1  A wonderful little production. <br /><br />The...  positive\n",
              "2  I thought this was a wonderful way to spend ti...  positive\n",
              "3  Basically there's a family where a little boy ...  negative\n",
              "4  Petter Mattei's \"Love in the Time of Money\" is...  positive\n",
              "5  Probably my all-time favorite movie, a story o...  positive\n",
              "6  I sure would like to see a resurrection of a u...  positive\n",
              "7  This show was an amazing, fresh & innovative i...  negative\n",
              "8  Encouraged by the positive comments about this...  negative\n",
              "9  If you like original gut wrenching laughter yo...  positive"
            ]
          },
          "execution_count": 49,
          "metadata": {},
          "output_type": "execute_result"
        }
      ],
      "source": [
        "Movie_df=pd.read_csv('IMDB Dataset.csv')\n",
        "print('Shape of dataset::',Movie_df.shape)\n",
        "Movie_df.head(10)"
      ]
    },
    {
      "cell_type": "markdown",
      "metadata": {
        "id": "MGcIh7sGCbXL"
      },
      "source": [
        "Stats of our data"
      ]
    },
    {
      "cell_type": "code",
      "execution_count": 50,
      "metadata": {
        "colab": {
          "base_uri": "https://localhost:8080/"
        },
        "id": "SVrLrpZ6CbXL",
        "outputId": "d6580c2e-3221-4164-8f6a-e15582b9886c",
        "trusted": true
      },
      "outputs": [
        {
          "name": "stdout",
          "output_type": "stream",
          "text": [
            "General stats::\n",
            "<class 'pandas.core.frame.DataFrame'>\n",
            "RangeIndex: 50000 entries, 0 to 49999\n",
            "Data columns (total 2 columns):\n",
            " #   Column     Non-Null Count  Dtype \n",
            "---  ------     --------------  ----- \n",
            " 0   review     50000 non-null  object\n",
            " 1   sentiment  50000 non-null  object\n",
            "dtypes: object(2)\n",
            "memory usage: 781.4+ KB\n",
            "None\n",
            "Summary stats::\n",
            "\n",
            "                                                   review sentiment\n",
            "count                                               50000     50000\n",
            "unique                                              49582         2\n",
            "top     Loved today's show!!! It was a variety and not...  positive\n",
            "freq                                                    5     25000\n"
          ]
        }
      ],
      "source": [
        "print(\"General stats::\")\n",
        "print(Movie_df.info())\n",
        "print(\"Summary stats::\\n\")\n",
        "print(Movie_df.describe())"
      ]
    },
    {
      "cell_type": "markdown",
      "metadata": {
        "id": "dniuuFBACbXL"
      },
      "source": [
        "> Number of poitive & negative reviews"
      ]
    },
    {
      "cell_type": "code",
      "execution_count": 51,
      "metadata": {
        "colab": {
          "base_uri": "https://localhost:8080/"
        },
        "id": "U6DBkTXLCbXL",
        "outputId": "2f0d2617-d4bc-4a11-c17b-816653d8cea0",
        "trusted": true
      },
      "outputs": [
        {
          "data": {
            "text/plain": [
              "sentiment\n",
              "positive    25000\n",
              "negative    25000\n",
              "Name: count, dtype: int64"
            ]
          },
          "execution_count": 51,
          "metadata": {},
          "output_type": "execute_result"
        }
      ],
      "source": [
        "Movie_df.sentiment.value_counts()"
      ]
    },
    {
      "cell_type": "code",
      "execution_count": 52,
      "metadata": {
        "id": "2i_ZSbROCbXM",
        "trusted": true
      },
      "outputs": [],
      "source": [
        "reviews=Movie_df['review']\n",
        "sentiment=Movie_df['sentiment']"
      ]
    },
    {
      "cell_type": "code",
      "execution_count": 53,
      "metadata": {
        "colab": {
          "base_uri": "https://localhost:8080/"
        },
        "id": "oIK9N346CbXM",
        "outputId": "01c558dd-76ed-4b8c-e6b9-ba5a0eed705d",
        "trusted": true
      },
      "outputs": [
        {
          "name": "stdout",
          "output_type": "stream",
          "text": [
            "Classes: ['negative' 'positive']\n"
          ]
        }
      ],
      "source": [
        "print('Classes:',np.unique(sentiment))"
      ]
    },
    {
      "cell_type": "code",
      "execution_count": 54,
      "metadata": {
        "colab": {
          "base_uri": "https://localhost:8080/"
        },
        "id": "7wgHd2tc__8w",
        "outputId": "c552e857-924d-47b7-e034-b56e5650b172"
      },
      "outputs": [
        {
          "data": {
            "text/plain": [
              "review       0\n",
              "sentiment    0\n",
              "dtype: int64"
            ]
          },
          "execution_count": 54,
          "metadata": {},
          "output_type": "execute_result"
        }
      ],
      "source": [
        "Movie_df.isnull().sum()"
      ]
    },
    {
      "cell_type": "markdown",
      "metadata": {
        "id": "m-8pQjBiCbXM"
      },
      "source": [
        "> Split the data into train & test datasets"
      ]
    },
    {
      "cell_type": "code",
      "execution_count": 55,
      "metadata": {
        "colab": {
          "base_uri": "https://localhost:8080/"
        },
        "id": "3KQ8HXYRCbXM",
        "outputId": "771436ff-ab7a-4536-94f8-77c4f2b5398e",
        "trusted": true
      },
      "outputs": [
        {
          "name": "stdout",
          "output_type": "stream",
          "text": [
            "Shape of train dataset:: (3000,) (3000,)\n",
            "Shape of test dataset:: (47000,) (47000,)\n"
          ]
        }
      ],
      "source": [
        "train_reviews=reviews[:3000]\n",
        "train_sentiment=sentiment[:3000]\n",
        "test_reviews=reviews[3000:]\n",
        "test_sentiment=sentiment[3000:]\n",
        "#Shape of train & test dataset\n",
        "print('Shape of train dataset::',train_reviews.shape,train_sentiment.shape)\n",
        "print('Shape of test dataset::',test_reviews.shape,test_sentiment.shape)"
      ]
    },
    {
      "cell_type": "markdown",
      "metadata": {
        "id": "E0_Qbn1SCbXM"
      },
      "source": [
        "> Encode our target labels"
      ]
    },
    {
      "cell_type": "code",
      "execution_count": 56,
      "metadata": {
        "id": "AHildXNyCbXM",
        "trusted": true
      },
      "outputs": [],
      "source": [
        "lb=preprocessing.LabelBinarizer()\n",
        "#Encode 1 for positive label & 0 for Negative label\n",
        "train_sentiment=lb.fit_transform(train_sentiment)\n",
        "test_sentiment=lb.transform(test_sentiment)\n",
        "#Reshape the array\n",
        "train_sentiment=train_sentiment.ravel()\n",
        "test_sentiment=test_sentiment.ravel()\n",
        "#Convert categoricals to numeric ones\n",
        "train_sentiment=train_sentiment.astype('int64')\n",
        "test_sentiment=test_sentiment.astype('int64')\n"
      ]
    },
    {
      "cell_type": "markdown",
      "metadata": {
        "id": "8awEGbrpCbXM"
      },
      "source": [
        "\n",
        "Let's explore our data before normalization"
      ]
    },
    {
      "cell_type": "code",
      "execution_count": 57,
      "metadata": {
        "colab": {
          "base_uri": "https://localhost:8080/",
          "height": 145
        },
        "id": "T3u7AwOGCbXM",
        "outputId": "b8dab11c-9329-431d-bf83-f7e15fa62b97",
        "trusted": true
      },
      "outputs": [
        {
          "data": {
            "text/plain": [
              "\"One of the other reviewers has mentioned that after watching just 1 Oz episode you'll be hooked. They are right, as this is exactly what happened with me.<br /><br />The first thing that struck me about Oz was its brutality and unflinching scenes of violence, which set in right from the word GO. Trust me, this is not a show for the faint hearted or timid. This show pulls no punches with regards to drugs, sex or violence. Its is hardcore, in the classic use of the word.<br /><br />It is called OZ as that is the nickname given to the Oswald Maximum Security State Penitentary. It focuses mainly on Emerald City, an experimental section of the prison where all the cells have glass fronts and face inwards, so privacy is not high on the agenda. Em City is home to many..Aryans, Muslims, gangstas, Latinos, Christians, Italians, Irish and more....so scuffles, death stares, dodgy dealings and shady agreements are never far away.<br /><br />I would say the main appeal of the show is due to the fact that it goes where other shows wouldn't dare. Forget pretty pictures painted for mainstream audiences, forget charm, forget romance...OZ doesn't mess around. The first episode I ever saw struck me as so nasty it was surreal, I couldn't say I was ready for it, but as I watched more, I developed a taste for Oz, and got accustomed to the high levels of graphic violence. Not just violence, but injustice (crooked guards who'll be sold out for a nickel, inmates who'll kill on order and get away with it, well mannered, middle class inmates being turned into prison bitches due to their lack of street skills or prison experience) Watching Oz, you may become comfortable with what is uncomfortable viewing....thats if you can get in touch with your darker side.\""
            ]
          },
          "execution_count": 57,
          "metadata": {},
          "output_type": "execute_result"
        }
      ],
      "source": [
        "train_reviews[0]"
      ]
    },
    {
      "cell_type": "code",
      "execution_count": 58,
      "metadata": {
        "colab": {
          "base_uri": "https://localhost:8080/",
          "height": 145
        },
        "id": "F4i_fc80CbXM",
        "outputId": "51cebf18-b084-4b92-877e-7e973197d31b",
        "trusted": true
      },
      "outputs": [
        {
          "data": {
            "text/plain": [
              "'I am still trying to figure out what the target of this movie was: 1) Whether to show how stupid, disorganized, unprofessional and arrogant the police is (I surely could add various adjectives here, but I think my point on this is clear). 2) Whether to show how a twisted-minded crook that does not know what he wants from himself can create chaos. 3) Whether to show if a persistent detective will solve a case just by asking the criminal the same stupid question over and over again till the criminal answers? 4) Or was it just to show that any 90 minutes of filmed material can still be called a MOVIE\\x85<br /><br />This was one of those movies, that in a way - did not disappoint me. From the first 10 minutes I kind of figured out that this movie will not be nominated for the best movie award, and surprisingly enough \\x96 this was consistent throughout the whole time. It was stupid enough to be worth the wait to see how stupidly it will continue and end \\x96 and I was not disappointed there either. <br /><br />Was it a complete waist of time? YES. Which raises your question \\x96 WHY DID I WATCH IT THROUGHOUT? Well, I was trying to fall asleep, and I thought this was a great candidate for that, but unfortunately I had too much coffee before that\\x85'"
            ]
          },
          "execution_count": 58,
          "metadata": {},
          "output_type": "execute_result"
        }
      ],
      "source": [
        "test_reviews[3001]"
      ]
    },
    {
      "cell_type": "markdown",
      "metadata": {
        "id": "JiUbnZpqCbXN"
      },
      "source": [
        "In above paragraphs, we can observe stopwords,html tags,special charcters & numbers, which are not required for sentiment analysis.So we need to remove those by normalizing the review data to reduce dimensionality & noise in the data."
      ]
    },
    {
      "cell_type": "code",
      "execution_count": 59,
      "metadata": {
        "colab": {
          "base_uri": "https://localhost:8080/"
        },
        "id": "_aoI0BZLCbXN",
        "outputId": "02775084-bbf1-4e3f-efdd-84324842c6a7",
        "trusted": true
      },
      "outputs": [
        {
          "data": {
            "text/plain": [
              "array([1, 1, 1, 0, 1, 1, 1, 0, 0, 1], dtype=int64)"
            ]
          },
          "execution_count": 59,
          "metadata": {},
          "output_type": "execute_result"
        }
      ],
      "source": [
        "train_sentiment[0:10]"
      ]
    },
    {
      "cell_type": "code",
      "execution_count": 60,
      "metadata": {
        "colab": {
          "base_uri": "https://localhost:8080/"
        },
        "id": "m5xXlnIuCbXN",
        "outputId": "07a20b5d-74d0-4c57-af2c-055c0b766f65",
        "trusted": true
      },
      "outputs": [
        {
          "data": {
            "text/plain": [
              "array([0, 0, 1, 0, 1, 1, 1, 0, 0, 1], dtype=int64)"
            ]
          },
          "execution_count": 60,
          "metadata": {},
          "output_type": "execute_result"
        }
      ],
      "source": [
        "test_sentiment[0:10]"
      ]
    },
    {
      "cell_type": "markdown",
      "metadata": {
        "id": "8cTiPCNJCbXN"
      },
      "source": [
        "> Data Pre-processing"
      ]
    },
    {
      "cell_type": "markdown",
      "metadata": {
        "id": "bhds_p4sCbXN"
      },
      "source": [
        "Let's normalize our data to remove stopwords, html tags and so on."
      ]
    },
    {
      "cell_type": "code",
      "execution_count": 61,
      "metadata": {
        "colab": {
          "base_uri": "https://localhost:8080/"
        },
        "id": "4ixmmW_vQt63",
        "outputId": "3ad31e6c-2b0d-4902-e022-6a2a5a768a84"
      },
      "outputs": [
        {
          "name": "stderr",
          "output_type": "stream",
          "text": [
            "[nltk_data] Downloading package stopwords to\n",
            "[nltk_data]     C:\\Users\\sai\\AppData\\Roaming\\nltk_data...\n",
            "[nltk_data]   Package stopwords is already up-to-date!\n"
          ]
        },
        {
          "data": {
            "text/plain": [
              "True"
            ]
          },
          "execution_count": 61,
          "metadata": {},
          "output_type": "execute_result"
        }
      ],
      "source": [
        "import nltk\n",
        "nltk.download('stopwords')"
      ]
    },
    {
      "cell_type": "code",
      "execution_count": 62,
      "metadata": {
        "id": "_duPccynCbXN",
        "trusted": true
      },
      "outputs": [],
      "source": [
        "ps=PorterStemmer()\n",
        "stopwords=set(stopwords.words('english'))\n",
        "# Define function for data mining\n",
        "def normalize_reviews(review):\n",
        "    #Excluding html tags\n",
        "    data_tags=re.sub(r'<[^<>]+>',\" \",review)\n",
        "    #Remove special characters/whitespaces\n",
        "    data_special=re.sub(r'[^a-zA-Z0-9\\s]','',data_tags)\n",
        "    #converting to lower case\n",
        "    data_lowercase=data_special.lower()\n",
        "    #tokenize review data\n",
        "    data_split=data_lowercase.split()\n",
        "    #Removing stop words\n",
        "    meaningful_words=[w for w in data_split if not w in stopwords]\n",
        "    #Apply stemming\n",
        "    text= ' '.join([ps.stem(word) for word in meaningful_words])\n",
        "    return text\n"
      ]
    },
    {
      "cell_type": "markdown",
      "metadata": {
        "id": "ALQIdkTXCbXN"
      },
      "source": [
        "> Normalize the train & test data"
      ]
    },
    {
      "cell_type": "code",
      "execution_count": 63,
      "metadata": {
        "id": "rWSDw2x_CbXN",
        "trusted": true
      },
      "outputs": [],
      "source": [
        "norm_train_reviews=train_reviews.apply(normalize_reviews)\n",
        "norm_test_reviews=test_reviews.apply(normalize_reviews)"
      ]
    },
    {
      "cell_type": "markdown",
      "metadata": {
        "id": "N3cPQCpyCbXN"
      },
      "source": [
        "\n",
        "Let's look at our normalized data"
      ]
    },
    {
      "cell_type": "code",
      "execution_count": 64,
      "metadata": {
        "colab": {
          "base_uri": "https://localhost:8080/",
          "height": 145
        },
        "id": "fflpuMwPCbXN",
        "outputId": "4771e33f-ef00-4735-8a20-ecdf7f2fae57",
        "trusted": true
      },
      "outputs": [
        {
          "data": {
            "text/plain": [
              "'one review mention watch 1 oz episod youll hook right exactli happen first thing struck oz brutal unflinch scene violenc set right word go trust show faint heart timid show pull punch regard drug sex violenc hardcor classic use word call oz nicknam given oswald maximum secur state penitentari focus mainli emerald citi experiment section prison cell glass front face inward privaci high agenda em citi home manyaryan muslim gangsta latino christian italian irish moreso scuffl death stare dodgi deal shadi agreement never far away would say main appeal show due fact goe show wouldnt dare forget pretti pictur paint mainstream audienc forget charm forget romanceoz doesnt mess around first episod ever saw struck nasti surreal couldnt say readi watch develop tast oz got accustom high level graphic violenc violenc injustic crook guard wholl sold nickel inmat wholl kill order get away well manner middl class inmat turn prison bitch due lack street skill prison experi watch oz may becom comfort uncomfort viewingthat get touch darker side'"
            ]
          },
          "execution_count": 64,
          "metadata": {},
          "output_type": "execute_result"
        }
      ],
      "source": [
        "norm_train_reviews[0]"
      ]
    },
    {
      "cell_type": "code",
      "execution_count": 65,
      "metadata": {
        "colab": {
          "base_uri": "https://localhost:8080/",
          "height": 109
        },
        "id": "xWj6205pCbXN",
        "outputId": "7fa224f9-9881-44c2-ed44-b2871261827c",
        "trusted": true
      },
      "outputs": [
        {
          "data": {
            "text/plain": [
              "'still tri figur target movi 1 whether show stupid disorgan unprofession arrog polic sure could add variou adject think point clear 2 whether show twistedmind crook know want creat chao 3 whether show persist detect solv case ask crimin stupid question till crimin answer 4 show 90 minut film materi still call movi one movi way disappoint first 10 minut kind figur movi nomin best movi award surprisingli enough consist throughout whole time stupid enough worth wait see stupidli continu end disappoint either complet waist time ye rais question watch throughout well tri fall asleep thought great candid unfortun much coffe'"
            ]
          },
          "execution_count": 65,
          "metadata": {},
          "output_type": "execute_result"
        }
      ],
      "source": [
        "norm_test_reviews[3001]"
      ]
    },
    {
      "cell_type": "markdown",
      "metadata": {
        "id": "e_8UcM2xCbXN"
      },
      "source": [
        "> Let's create features using bag of words model"
      ]
    },
    {
      "cell_type": "code",
      "execution_count": 66,
      "metadata": {
        "colab": {
          "base_uri": "https://localhost:8080/"
        },
        "id": "1oUVcdS7CbXN",
        "outputId": "114db2be-a285-41a9-ea66-49c093a265a5",
        "trusted": true
      },
      "outputs": [
        {
          "name": "stdout",
          "output_type": "stream",
          "text": [
            "Shape of train_cv:: (3000, 291498)\n",
            "Shape of test_cv:: (47000, 291498)\n"
          ]
        }
      ],
      "source": [
        "cv=CountVectorizer(ngram_range=(1,2))\n",
        "train_cv=cv.fit_transform(norm_train_reviews)\n",
        "test_cv =cv.transform(norm_test_reviews)\n",
        "print('Shape of train_cv::',train_cv.shape)\n",
        "print('Shape of test_cv::',test_cv.shape)"
      ]
    },
    {
      "cell_type": "markdown",
      "metadata": {
        "id": "GI44DRLACbXO"
      },
      "source": [
        "> Let's build our traditional ML models"
      ]
    },
    {
      "cell_type": "markdown",
      "metadata": {
        "id": "XrYrnHZACbXO"
      },
      "source": [
        "> Random Forest model"
      ]
    },
    {
      "cell_type": "code",
      "execution_count": 67,
      "metadata": {},
      "outputs": [],
      "source": [
        "from sklearn.ensemble import RandomForestClassifier"
      ]
    },
    {
      "cell_type": "code",
      "execution_count": 68,
      "metadata": {
        "colab": {
          "base_uri": "https://localhost:8080/"
        },
        "id": "P4VN3MQvCbXO",
        "outputId": "d2065ea0-6093-4c3b-b01f-4d88d6d528be",
        "trusted": true
      },
      "outputs": [
        {
          "name": "stdout",
          "output_type": "stream",
          "text": [
            "Accuracy of trained model is :: 0.999\n",
            "CPU times: total: 1.77 s\n",
            "Wall time: 7.45 s\n"
          ]
        }
      ],
      "source": [
        "%%time\n",
        "#Training the classifier\n",
        "rfc=RandomForestClassifier(n_estimators=20,random_state=42)\n",
        "rfc=rfc.fit(train_cv,train_sentiment)\n",
        "score=rfc.score(train_cv,train_sentiment)\n",
        "print('Accuracy of trained model is ::',score)"
      ]
    },
    {
      "cell_type": "code",
      "execution_count": 69,
      "metadata": {
        "colab": {
          "base_uri": "https://localhost:8080/"
        },
        "id": "jhBt_VzECbXO",
        "outputId": "bf1318df-9e54-4e29-d6cc-e59b7e8d91dc",
        "trusted": true
      },
      "outputs": [
        {
          "name": "stdout",
          "output_type": "stream",
          "text": [
            "CPU times: total: 203 ms\n",
            "Wall time: 657 ms\n"
          ]
        }
      ],
      "source": [
        "%%time\n",
        "#Making predicitions\n",
        "rfc_predict=rfc.predict(test_cv)"
      ]
    },
    {
      "cell_type": "code",
      "execution_count": 70,
      "metadata": {
        "colab": {
          "base_uri": "https://localhost:8080/",
          "height": 448
        },
        "id": "VvSbxJiSCbXO",
        "outputId": "ad16c5fd-0e36-423e-9291-cea7a40fb160",
        "trusted": true
      },
      "outputs": [
        {
          "data": {
            "text/plain": [
              "<Axes: >"
            ]
          },
          "execution_count": 70,
          "metadata": {},
          "output_type": "execute_result"
        },
        {
          "data": {
            "image/png": "[encoded data removed]",
            "text/plain": [
              "<Figure size 640x480 with 2 Axes>"
            ]
          },
          "metadata": {},
          "output_type": "display_data"
        }
      ],
      "source": [
        "#How accuate our model is?\n",
        "import seaborn as sns\n",
        "cm=confusion_matrix(test_sentiment, rfc_predict)\n",
        "sns.heatmap(cm, fmt=\".2f\", annot=True)"
      ]
    },
    {
      "cell_type": "markdown",
      "metadata": {
        "id": "yeAa0CZhCbXO"
      },
      "source": [
        "> 0-Negative class,\n",
        "> 1-Positive class"
      ]
    },
    {
      "cell_type": "code",
      "execution_count": 71,
      "metadata": {
        "colab": {
          "base_uri": "https://localhost:8080/"
        },
        "id": "kjrbYJMmCbXX",
        "outputId": "8a122609-a1b4-4107-876c-4f196762a0f7",
        "trusted": true
      },
      "outputs": [
        {
          "name": "stdout",
          "output_type": "stream",
          "text": [
            "Classification report is::\n",
            "               precision    recall  f1-score   support\n",
            "\n",
            "           0       0.77      0.79      0.78     23508\n",
            "           1       0.79      0.77      0.78     23492\n",
            "\n",
            "    accuracy                           0.78     47000\n",
            "   macro avg       0.78      0.78      0.78     47000\n",
            "weighted avg       0.78      0.78      0.78     47000\n",
            "\n"
          ]
        }
      ],
      "source": [
        "#print classification report for performance metrics\n",
        "cr=classification_report(test_sentiment,rfc_predict)\n",
        "print('Classification report is::\\n',cr)\n"
      ]
    },
    {
      "cell_type": "markdown",
      "metadata": {
        "id": "1NHKAUTfCbXY"
      },
      "source": [
        "\n",
        "> Recurrent neural network (RNN) with LSTM (Long Short Term Memory) model"
      ]
    },
    {
      "cell_type": "code",
      "execution_count": 72,
      "metadata": {
        "id": "BFHYqJVpCbXY",
        "trusted": true
      },
      "outputs": [],
      "source": [
        "#Train dataset\n",
        "X_train=train_cv\n",
        "X_train=[str(x[0]) for x in X_train]\n",
        "y_train=train_sentiment\n",
        "# Test dataset\n",
        "X_test=test_cv\n",
        "X_test=[str(x[0]) for x in X_test]\n",
        "y_test=test_sentiment\n"
      ]
    },
    {
      "cell_type": "code",
      "execution_count": 73,
      "metadata": {
        "id": "ALtXDHl-CbXY",
        "trusted": true
      },
      "outputs": [],
      "source": [
        "# Tokenize the train & test dataset\n",
        "Max_Review_length=500\n",
        "tokenizer=Tokenizer(num_words=Max_Review_length,lower=False)\n",
        "tokenizer.fit_on_texts(X_train)\n",
        "#tokenizig train data\n",
        "X_train_token=tokenizer.texts_to_sequences(X_train)\n",
        "#tokenizing test data\n",
        "X_test_token=tokenizer.texts_to_sequences(X_test)\n",
        "\n",
        "#Truncate or pad the dataset for a length of 500 words for each review\n",
        "X_train=pad_sequences(X_train_token,maxlen=Max_Review_length)\n",
        "X_test=pad_sequences(X_test_token,maxlen=Max_Review_length)"
      ]
    },
    {
      "cell_type": "code",
      "execution_count": 74,
      "metadata": {
        "colab": {
          "base_uri": "https://localhost:8080/"
        },
        "id": "Bg-_7itECbXY",
        "outputId": "b1a15e68-eb10-4fd9-9ef6-f66246c82dfe",
        "trusted": true
      },
      "outputs": [
        {
          "name": "stdout",
          "output_type": "stream",
          "text": [
            "Shape of X_train datset after padding: (3000, 500)\n",
            "Shape of X_test dataset after padding: (47000, 500)\n"
          ]
        }
      ],
      "source": [
        "print('Shape of X_train datset after padding:',X_train.shape)\n",
        "print('Shape of X_test dataset after padding:',X_test.shape)"
      ]
    },
    {
      "cell_type": "code",
      "execution_count": 75,
      "metadata": {
        "colab": {
          "base_uri": "https://localhost:8080/"
        },
        "id": "bBj62bC5CbXY",
        "outputId": "e66e4776-d84f-4e88-bb56-ffbc9a64ae4b",
        "trusted": true
      },
      "outputs": [
        {
          "name": "stdout",
          "output_type": "stream",
          "text": [
            "Model: \"sequential_2\"\n",
            "_________________________________________________________________\n",
            " Layer (type)                Output Shape              Param #   \n",
            "=================================================================\n",
            " embedding_1 (Embedding)     (None, 500, 64)           320000    \n",
            "                                                                 \n",
            " lstm_1 (LSTM)               (None, 30)                11400     \n",
            "                                                                 \n",
            " dense_1 (Dense)             (None, 1)                 31        \n",
            "                                                                 \n",
            "=================================================================\n",
            "Total params: 331431 (1.26 MB)\n",
            "Trainable params: 331431 (1.26 MB)\n",
            "Non-trainable params: 0 (0.00 Byte)\n",
            "_________________________________________________________________\n",
            "CPU times: total: 31.2 ms\n",
            "Wall time: 259 ms\n"
          ]
        }
      ],
      "source": [
        "%%time\n",
        "# Most poplar words found in the dataset\n",
        "vocabulary_size=5000\n",
        "embedding_size=64\n",
        "model=Sequential()\n",
        "model.add(Embedding(vocabulary_size,embedding_size,input_length=Max_Review_length))\n",
        "model.add(LSTM(30))\n",
        "model.add(Dense(1,activation='sigmoid'))\n",
        "model.summary()"
      ]
    },
    {
      "cell_type": "code",
      "execution_count": 76,
      "metadata": {
        "id": "1fefYFicCbXY",
        "trusted": true
      },
      "outputs": [],
      "source": [
        "#Complile our model\n",
        "model.compile(loss='binary_crossentropy',optimizer='adam',metrics=['accuracy'])"
      ]
    },
    {
      "cell_type": "code",
      "execution_count": 77,
      "metadata": {
        "colab": {
          "base_uri": "https://localhost:8080/"
        },
        "id": "WcxVoxe4CbXY",
        "outputId": "899e613c-4406-4d1d-9a3a-086e046fab6e",
        "trusted": true
      },
      "outputs": [
        {
          "name": "stdout",
          "output_type": "stream",
          "text": [
            "Epoch 1/6\n",
            "23/23 [==============================] - 12s 421ms/step - loss: 0.6937 - accuracy: 0.4861 - val_loss: 0.6962 - val_accuracy: 0.4375\n",
            "Epoch 2/6\n",
            "23/23 [==============================] - 8s 318ms/step - loss: 0.6932 - accuracy: 0.5059 - val_loss: 0.6954 - val_accuracy: 0.4375\n",
            "Epoch 3/6\n",
            "23/23 [==============================] - 7s 299ms/step - loss: 0.6931 - accuracy: 0.5070 - val_loss: 0.6950 - val_accuracy: 0.4375\n",
            "Epoch 4/6\n",
            "23/23 [==============================] - 7s 294ms/step - loss: 0.6932 - accuracy: 0.5070 - val_loss: 0.6953 - val_accuracy: 0.4375\n",
            "Epoch 5/6\n",
            "23/23 [==============================] - 7s 303ms/step - loss: 0.6934 - accuracy: 0.4892 - val_loss: 0.6938 - val_accuracy: 0.4297\n",
            "Epoch 6/6\n",
            "23/23 [==============================] - 6s 269ms/step - loss: 0.6931 - accuracy: 0.5080 - val_loss: 0.6957 - val_accuracy: 0.4375\n",
            "CPU times: total: 8.14 s\n",
            "Wall time: 46.3 s\n"
          ]
        },
        {
          "data": {
            "text/plain": [
              "<keras.src.callbacks.History at 0x1eda606f490>"
            ]
          },
          "execution_count": 77,
          "metadata": {},
          "output_type": "execute_result"
        }
      ],
      "source": [
        "%%time\n",
        "#Train our model\n",
        "batch_size=128\n",
        "num_epochs=6\n",
        "X_valid,y_valid=X_train[:batch_size],train_sentiment[:batch_size]\n",
        "X_train1,y_train1=X_train[batch_size:],train_sentiment[batch_size:]\n",
        "# Fit the model\n",
        "model.fit(X_train1,y_train1,validation_data=(X_valid,y_valid),validation_split=0.2,\n",
        "          batch_size=batch_size,epochs=num_epochs, verbose=1,shuffle=True)\n"
      ]
    },
    {
      "cell_type": "code",
      "execution_count": 78,
      "metadata": {
        "colab": {
          "base_uri": "https://localhost:8080/"
        },
        "id": "mk8XYjeaCbXY",
        "outputId": "de3a0289-ef35-4f12-a52c-7a821cda721f",
        "trusted": true
      },
      "outputs": [
        {
          "name": "stdout",
          "output_type": "stream",
          "text": [
            "1469/1469 [==============================] - 54s 37ms/step\n",
            "CPU times: total: 5.72 s\n",
            "Wall time: 55 s\n"
          ]
        },
        {
          "data": {
            "text/plain": [
              "array([ True,  True,  True,  True, False,  True,  True,  True,  True,\n",
              "        True])"
            ]
          },
          "execution_count": 78,
          "metadata": {},
          "output_type": "execute_result"
        }
      ],
      "source": [
        "%%time\n",
        "# Predictions\n",
        "y_predict_rnn=model.predict(X_test)\n",
        "#Changing the shape of y_predict to 1-Dimensional\n",
        "y_predict_rnn1=y_predict_rnn.ravel()\n",
        "y_predict_rnn1=(y_predict_rnn1>0.5)\n",
        "y_predict_rnn1[0:10]"
      ]
    },
    {
      "cell_type": "code",
      "execution_count": 79,
      "metadata": {
        "colab": {
          "base_uri": "https://localhost:8080/"
        },
        "id": "gfZlZi9NCbXZ",
        "outputId": "f6ddf006-2e29-422b-e60d-da2b33ce086c",
        "trusted": true
      },
      "outputs": [
        {
          "data": {
            "text/plain": [
              "array([[ 2605, 20903],\n",
              "       [ 2807, 20685]], dtype=int64)"
            ]
          },
          "execution_count": 79,
          "metadata": {},
          "output_type": "execute_result"
        }
      ],
      "source": [
        "cm_rnn=confusion_matrix(y_test,y_predict_rnn1)\n",
        "cm_rnn"
      ]
    },
    {
      "cell_type": "code",
      "execution_count": 80,
      "metadata": {},
      "outputs": [
        {
          "name": "stdout",
          "output_type": "stream",
          "text": [
            "The Classification report is::\n",
            "               precision    recall  f1-score   support\n",
            "\n",
            "           0       0.48      0.11      0.18     23508\n",
            "           1       0.50      0.88      0.64     23492\n",
            "\n",
            "    accuracy                           0.50     47000\n",
            "   macro avg       0.49      0.50      0.41     47000\n",
            "weighted avg       0.49      0.50      0.41     47000\n",
            "\n"
          ]
        }
      ],
      "source": [
        "#Classification report for performance metrics\n",
        "cr_rnn=classification_report(y_test,y_predict_rnn1)\n",
        "print('The Classification report is::\\n',cr_rnn)"
      ]
    }
  ],
  "metadata": {
    "colab": {
      "provenance": []
    },
    "kernelspec": {
      "display_name": "Python 3",
      "language": "python",
      "name": "python3"
    },
    "language_info": {
      "codemirror_mode": {
        "name": "ipython",
        "version": 3
      },
      "file_extension": ".py",
      "mimetype": "text/x-python",
      "name": "python",
      "nbconvert_exporter": "python",
      "pygments_lexer": "ipython3",
      "version": "3.11.8"
    }
  },
  "nbformat": 4,
  "nbformat_minor": 0
}
